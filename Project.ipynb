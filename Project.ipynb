{
 "cells": [
  {
   "cell_type": "markdown",
   "metadata": {},
   "source": [
    "# Análise de dados de tipos de estrela\n",
    "\n",
    "Neste projeto, iremos a analisar uma base de dados de características de estrelas coletados pela NASA. \n",
    "A base está disponível [no Kaggle](https://www.kaggle.com/brsdincer/star-type-classification), começaremos observando o que a base nos fornece de dados, e então testaremos os algoritmos de classificação para achar o que melhor ajuda a prever o tipo de estrela baseado nos demais atributos e por fim mostraremos alguns gráficos baseados nos atributos e como elas se diferem em si.\n",
    "\n",
    "Primeiramento vamos importar as bibliotecas necessárias e importar os dados:"
   ]
  },
  {
   "cell_type": "code",
   "execution_count": 2,
   "metadata": {},
   "outputs": [
    {
     "name": "stderr",
     "output_type": "stream",
     "text": [
      "/home/vitorguilhermeantunes/anaconda3/lib/python3.8/site-packages/sklearn/utils/deprecation.py:143: FutureWarning: The sklearn.metrics.scorer module is  deprecated in version 0.22 and will be removed in version 0.24. The corresponding classes / functions should instead be imported from sklearn.metrics. Anything that cannot be imported from sklearn.metrics is now part of the private API.\n",
      "  warnings.warn(message, FutureWarning)\n"
     ]
    }
   ],
   "source": [
    "# discriminante linear e quadrático\n",
    "from sklearn.discriminant_analysis import QuadraticDiscriminantAnalysis, LinearDiscriminantAnalysis\n",
    "\n",
    "# naive bayes, com distribuição gaussiana\n",
    "from sklearn.naive_bayes import GaussianNB\n",
    "\n",
    "# faz uma transformação de escala nos atributos, para que tenham média zero e desvio padrão 1\n",
    "from sklearn.preprocessing import StandardScaler\n",
    "\n",
    "# carregamento de dados artificiais do sitem OpenML\n",
    "from sklearn.datasets import make_moons, make_circles, fetch_openml\n",
    "\n",
    "from sklearn.metrics import f1_score, roc_auc_score, cohen_kappa_score, make_scorer, confusion_matrix, roc_curve, ConfusionMatrixDisplay, RocCurveDisplay\n",
    "from sklearn.metrics.scorer import roc_auc_scorer, accuracy_scorer\n",
    "\n",
    "#Avaliação cruzada\n",
    "from sklearn.model_selection import cross_validate, train_test_split, StratifiedKFold\n",
    "\n",
    "import matplotlib.pyplot as plt\n",
    "from matplotlib import colors\n",
    "\n",
    "import numpy as np\n",
    "import pandas as pd\n",
    "from collections import Counter"
   ]
  },
  {
   "cell_type": "code",
   "execution_count": 3,
   "metadata": {},
   "outputs": [],
   "source": [
    "#buscando os dados\n",
    "data = pd.read_csv('Stars.csv')"
   ]
  },
  {
   "cell_type": "markdown",
   "metadata": {},
   "source": [
    "A seguir temos os dados um resumo dos primeiros dados da base:"
   ]
  },
  {
   "cell_type": "code",
   "execution_count": 4,
   "metadata": {},
   "outputs": [
    {
     "data": {
      "text/html": [
       "<div>\n",
       "<style scoped>\n",
       "    .dataframe tbody tr th:only-of-type {\n",
       "        vertical-align: middle;\n",
       "    }\n",
       "\n",
       "    .dataframe tbody tr th {\n",
       "        vertical-align: top;\n",
       "    }\n",
       "\n",
       "    .dataframe thead th {\n",
       "        text-align: right;\n",
       "    }\n",
       "</style>\n",
       "<table border=\"1\" class=\"dataframe\">\n",
       "  <thead>\n",
       "    <tr style=\"text-align: right;\">\n",
       "      <th></th>\n",
       "      <th>Temperature</th>\n",
       "      <th>L</th>\n",
       "      <th>R</th>\n",
       "      <th>A_M</th>\n",
       "      <th>Color</th>\n",
       "      <th>Spectral_Class</th>\n",
       "      <th>Type</th>\n",
       "    </tr>\n",
       "  </thead>\n",
       "  <tbody>\n",
       "    <tr>\n",
       "      <th>0</th>\n",
       "      <td>3068</td>\n",
       "      <td>0.002400</td>\n",
       "      <td>0.1700</td>\n",
       "      <td>16.12</td>\n",
       "      <td>Red</td>\n",
       "      <td>M</td>\n",
       "      <td>0</td>\n",
       "    </tr>\n",
       "    <tr>\n",
       "      <th>1</th>\n",
       "      <td>3042</td>\n",
       "      <td>0.000500</td>\n",
       "      <td>0.1542</td>\n",
       "      <td>16.60</td>\n",
       "      <td>Red</td>\n",
       "      <td>M</td>\n",
       "      <td>0</td>\n",
       "    </tr>\n",
       "    <tr>\n",
       "      <th>2</th>\n",
       "      <td>2600</td>\n",
       "      <td>0.000300</td>\n",
       "      <td>0.1020</td>\n",
       "      <td>18.70</td>\n",
       "      <td>Red</td>\n",
       "      <td>M</td>\n",
       "      <td>0</td>\n",
       "    </tr>\n",
       "    <tr>\n",
       "      <th>3</th>\n",
       "      <td>2800</td>\n",
       "      <td>0.000200</td>\n",
       "      <td>0.1600</td>\n",
       "      <td>16.65</td>\n",
       "      <td>Red</td>\n",
       "      <td>M</td>\n",
       "      <td>0</td>\n",
       "    </tr>\n",
       "    <tr>\n",
       "      <th>4</th>\n",
       "      <td>1939</td>\n",
       "      <td>0.000138</td>\n",
       "      <td>0.1030</td>\n",
       "      <td>20.06</td>\n",
       "      <td>Red</td>\n",
       "      <td>M</td>\n",
       "      <td>0</td>\n",
       "    </tr>\n",
       "  </tbody>\n",
       "</table>\n",
       "</div>"
      ],
      "text/plain": [
       "   Temperature         L       R    A_M Color Spectral_Class  Type\n",
       "0         3068  0.002400  0.1700  16.12   Red              M     0\n",
       "1         3042  0.000500  0.1542  16.60   Red              M     0\n",
       "2         2600  0.000300  0.1020  18.70   Red              M     0\n",
       "3         2800  0.000200  0.1600  16.65   Red              M     0\n",
       "4         1939  0.000138  0.1030  20.06   Red              M     0"
      ]
     },
     "execution_count": 4,
     "metadata": {},
     "output_type": "execute_result"
    }
   ],
   "source": [
    "data.head()"
   ]
  },
  {
   "cell_type": "markdown",
   "metadata": {},
   "source": [
    "Agora vamos ver rapidamente os dados categoricos, começando pelas cores das estrelas:"
   ]
  },
  {
   "cell_type": "code",
   "execution_count": 5,
   "metadata": {},
   "outputs": [
    {
     "name": "stdout",
     "output_type": "stream",
     "text": [
      "['Red' 'Blue White' 'White' 'Yellowish White' 'Blue white'\n",
      " 'Pale yellow orange' 'Blue' 'Blue-white' 'Whitish' 'yellow-white'\n",
      " 'Orange' 'White-Yellow' 'white' 'yellowish' 'Yellowish' 'Orange-Red'\n",
      " 'Blue-White']\n"
     ]
    }
   ],
   "source": [
    "print(pd.unique(data[\"Color\"]))"
   ]
  },
  {
   "cell_type": "markdown",
   "metadata": {},
   "source": [
    "Sobre a classe espectral, pode se ver o que eles significam [aqui] (https://en.wikipedia.org/wiki/Asteroid_spectral_types)\n",
    "\n",
    "Abaixo os diferentes tipos espectrais das estrelas da base:"
   ]
  },
  {
   "cell_type": "code",
   "execution_count": 6,
   "metadata": {},
   "outputs": [
    {
     "name": "stdout",
     "output_type": "stream",
     "text": [
      "['M' 'B' 'A' 'F' 'O' 'K' 'G']\n"
     ]
    }
   ],
   "source": [
    "print(pd.unique(data[\"Spectral_Class\"]))"
   ]
  },
  {
   "cell_type": "markdown",
   "metadata": {},
   "source": [
    "Apesar da coluna \"Type\" aparentar ser numérica ela é categórica, pois os códigos (de 0 a 5), ent~ao optamos por criar um objeto para representar os tipos:"
   ]
  },
  {
   "cell_type": "code",
   "execution_count": 7,
   "metadata": {},
   "outputs": [],
   "source": [
    "nomes_tipos_estrelas = {\n",
    "    'Red Dwarf': 0,\n",
    "    'Brown Dwarf': 1,\n",
    "    'White Dwarf': 2,\n",
    "    'Main Sequence': 3,\n",
    "    'Super Giants': 4,\n",
    "    'Hyper Giants': 5\n",
    "}"
   ]
  },
  {
   "cell_type": "markdown",
   "metadata": {},
   "source": [
    "Vamos começar compararando dados categóricos com outros categóricos, comparando o tipo espectral (`Spectral_Class`) com o tipo da estrela (`Type`):"
   ]
  },
  {
   "cell_type": "code",
   "execution_count": 34,
   "metadata": {},
   "outputs": [
    {
     "data": {
      "image/png": "[encoded data removed]",
      "text/plain": [
       "<Figure size 432x288 with 6 Axes>"
      ]
     },
     "metadata": {
      "needs_background": "light"
     },
     "output_type": "display_data"
    }
   ],
   "source": [
    "# Aqui vem o código com o plot dos gráficos comparando para cada tipo de estrela (eixo y) como se distribui nos\n",
    "# espectros (eixo x), ou seja, para cada tipo diferente de estrela (\"Type\") um gráfico de barra diferente, por \n",
    "# exemplo, quantas \"Red Dwarf\" (zero) temos no espectro 'O', 'M', 'K', 'G' e assim por diante\n",
    "\n",
    "\n",
    "#Pegando os tipos de estrelas:\n",
    "tipos_de_estrelas = pd.unique(data['Type'])\n",
    "espectros = pd.unique(data['Spectral_Class'])\n",
    "\n",
    "\n",
    "#aqui declaramos o conjunto vazio que vai guardar para cada tipo de estrela \n",
    "datasets_tipos_espectros = []\n",
    "#para cada tipo vamos calcular o qual a frequencia de cada espectro\n",
    "for tipo in tipos_de_estrelas:\n",
    "    estrelas_de_um_tipo = data[data.Type == tipo]\n",
    "\n",
    "    count_espectros = estrelas_de_um_tipo.groupby('Spectral_Class').agg({'Spectral_Class': ['count']})\n",
    "    \n",
    "    count_espectros.columns = ['quantidade']\n",
    "    \n",
    "    datasets_tipos_espectros.append(count_espectros)\n",
    "\n",
    "    \n",
    "figure, axis = plt.subplots(2,3)\n",
    "i = j = 0\n",
    "\n",
    "x = espectros\n",
    "\n",
    "datasets_tipos_espectros[0].head()\n",
    "\n",
    "for nome, indice in nomes_tipos_estrelas.items():\n",
    " \n",
    "    estrelas = datasets_tipos_espectros[indice]\n",
    "    \n",
    "    x = estrelas.index\n",
    "    y = estrelas['quantidade']\n",
    "    \n",
    "    axis[i, j].bar(x, y)\n",
    "    axis[i, j].set_title(nome)\n",
    "     \n",
    "    #print(\"i: {i}|j:{j}\".format({i = i, j = j}))\n",
    "    j = j + 1\n",
    "    \n",
    "    if indice == 2:\n",
    "        j = 0;\n",
    "        i = 1;\n",
    "\n",
    "plt.tight_layout()        \n",
    "plt.show()\n",
    "    "
   ]
  },
  {
   "cell_type": "markdown",
   "metadata": {},
   "source": [
    "Agora vamos ver como é a distribuição da temperatura das estrelas para cada tipo:"
   ]
  },
  {
   "cell_type": "code",
   "execution_count": 57,
   "metadata": {},
   "outputs": [],
   "source": [
    "#Aqui será um trecho de código que pegamos aquele gráfico de distruição e faremos gráficos para cada tipo de \n",
    "# estrela mas dessa vez o tipo será o eixo X, e a temperatura será o eixo Y do gráfico, aí poderíamos tirar \n",
    "# também a média, mediana, desvio padrão, etc da temperatura de cada tipo de estrela"
   ]
  },
  {
   "cell_type": "markdown",
   "metadata": {},
   "source": [
    "Agora fazendo da mesma forma que vimos em aula vamos comparar os algoritmos de classficação e vê qual deles nos serve melhor classificar as estrelas:"
   ]
  },
  {
   "cell_type": "code",
   "execution_count": 12,
   "metadata": {},
   "outputs": [],
   "source": [
    "#Primeiro precisamos tratar os dados aqui, os atributos categóricos como Spectral_Class e Color devem ser \n",
    "# convertidos para valores numéricos (talvez eu não tenho certeza, pode ser também que seja melhor descartá-los \n",
    "# para prever o tipo de estrela e considerar somente os atributos núméricos)"
   ]
  },
  {
   "cell_type": "code",
   "execution_count": 13,
   "metadata": {
    "tags": []
   },
   "outputs": [],
   "source": [
    "# #definindo os classificadores que testaremos \n",
    "# classificadores = {\n",
    "#     'Naive Bayes (Gaussian)' : GaussianNB(),\n",
    "#     'Discriminante Linear' : LinearDiscriminantAnalysis(),\n",
    "#     'Discriminante Quadrático' : QuadraticDiscriminantAnalysis()\n",
    "# }\n",
    "\n",
    "# #critérios de avaliação\n",
    "# scoring = {'accuracy': accuracy_scorer,\n",
    "#            'f1': make_scorer(f1_score, pos_label='2'),\n",
    "#            'kappa' : make_scorer(cohen_kappa_score),\n",
    "#            'auc_roc' : roc_auc_scorer\n",
    "# }\n",
    "\n",
    "\n",
    "# results = []\n",
    "\n",
    "# for clf_name, clf in classificadores.items():\n",
    "#     tmp = cross_validate(clf, data, data[\"Type\"], cv=10, scoring=scoring, return_train_score=True)\n",
    "#     tmp['clf'] = [clf_name]*10\n",
    "#     tmp['fold'] = range(10)\n",
    "\n",
    "#     results.append(pd.DataFrame(tmp))\n",
    "\n",
    "# results = pd.concat(results)\n",
    "# results.rename(columns={'fit_time' : 'train_time' , 'score_time' : 'test_time'}, inplace=True)"
   ]
  }
 ],
 "metadata": {
  "kernelspec": {
   "display_name": "Python 3",
   "language": "python",
   "name": "python3"
  },
  "language_info": {
   "codemirror_mode": {
    "name": "ipython",
    "version": 3
   },
   "file_extension": ".py",
   "mimetype": "text/x-python",
   "name": "python",
   "nbconvert_exporter": "python",
   "pygments_lexer": "ipython3",
   "version": "3.8.5"
  }
 },
 "nbformat": 4,
 "nbformat_minor": 4
}
