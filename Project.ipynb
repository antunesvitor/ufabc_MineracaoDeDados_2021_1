{
 "cells": [
  {
   "cell_type": "code",
   "execution_count": 3,
   "metadata": {},
   "outputs": [],
   "source": [
    "# discriminante linear e quadrático\n",
    "from sklearn.discriminant_analysis import QuadraticDiscriminantAnalysis, LinearDiscriminantAnalysis\n",
    "\n",
    "# naive bayes, com distribuição gaussiana\n",
    "from sklearn.naive_bayes import GaussianNB\n",
    "\n",
    "# faz uma transformação de escala nos atributos, para que tenham média zero e desvio padrão 1\n",
    "from sklearn.preprocessing import StandardScaler\n",
    "\n",
    "# carregamento de dados artificiais do sitem OpenML\n",
    "from sklearn.datasets import make_moons, make_circles, fetch_openml\n",
    "\n",
    "from sklearn.metrics import f1_score, roc_auc_score, cohen_kappa_score, make_scorer, confusion_matrix, roc_curve, ConfusionMatrixDisplay, RocCurveDisplay\n",
    "from sklearn.metrics.scorer import roc_auc_scorer, accuracy_scorer\n",
    "\n",
    "\n",
    "import matplotlib.pyplot as plt\n",
    "from matplotlib import colors\n",
    "\n",
    "import numpy as np\n",
    "import pandas as pd\n",
    "from collections import Counter"
   ]
  },
  {
   "cell_type": "code",
   "execution_count": 13,
   "metadata": {},
   "outputs": [
    {
     "output_type": "execute_result",
     "data": {
      "text/plain": [
       "sklearn.utils.Bunch"
      ]
     },
     "metadata": {},
     "execution_count": 13
    }
   ],
   "source": [
    "#buscando os dados\n",
    "data = pd.read_csv('Stars.csv')\n",
    "\n",
    "#definindo os classificadores que testaremos \n",
    "classificadores = {\n",
    "    'Naive Bayes (Gaussian)' : GaussianNB(),\n",
    "    'Discriminante Linear' : LinearDiscriminantAnalysis(),\n",
    "    'Discriminante Quadrático' : QuadraticDiscriminantAnalysis()\n",
    "}\n",
    "\n",
    "#critérios de avaliação\n",
    "scoring = {'accuracy': accuracy_scorer,\n",
    "           'f1': make_scorer(f1_score, pos_label='2'),\n",
    "           'kappa' : make_scorer(cohen_kappa_score),\n",
    "           'auc_roc' : roc_auc_scorer\n",
    "}\n",
    "\n",
    "\n",
    "results = []\n"
   ]
  }
 ],
 "metadata": {
  "kernelspec": {
   "display_name": "Python 3",
   "language": "python",
   "name": "python3"
  },
  "language_info": {
   "codemirror_mode": {
    "name": "ipython",
    "version": 3
   },
   "file_extension": ".py",
   "mimetype": "text/x-python",
   "name": "python",
   "nbconvert_exporter": "python",
   "pygments_lexer": "ipython3",
   "version": "3.8.5-final"
  }
 },
 "nbformat": 4,
 "nbformat_minor": 4
}